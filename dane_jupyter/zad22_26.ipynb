{
  "metadata": {
    "language_info": {
      "codemirror_mode": {
        "name": "python",
        "version": 3
      },
      "file_extension": ".py",
      "mimetype": "text/x-python",
      "name": "python",
      "nbconvert_exporter": "python",
      "pygments_lexer": "ipython3",
      "version": "3.8"
    },
    "kernelspec": {
      "name": "python",
      "display_name": "Pyolite",
      "language": "python"
    }
  },
  "nbformat_minor": 4,
  "nbformat": 4,
  "cells": [
    {
      "cell_type": "code",
      "source": "import numpy as np",
      "metadata": {
        "trusted": true
      },
      "execution_count": 1,
      "outputs": []
    },
    {
      "cell_type": "code",
      "source": "#zad 22\nm = np.array([\n    [1,2,3],  \n    [1,2,0],\n    [1,0,2]\n])\nprint(m)\nprint(m[0].sum())\nprint(m[:,0].sum())\nm[0,0]+m[1,1]+m[2,2]",
      "metadata": {
        "trusted": true
      },
      "execution_count": 6,
      "outputs": [
        {
          "name": "stdout",
          "text": "[[1 2 3]\n [1 2 0]\n [1 0 2]]\n6\n3\n",
          "output_type": "stream"
        },
        {
          "execution_count": 6,
          "output_type": "execute_result",
          "data": {
            "text/plain": "5"
          },
          "metadata": {}
        }
      ]
    },
    {
      "cell_type": "code",
      "source": "#zad 23\na = np.array([\n    [1,2,3],  \n    [1,2,0],\n    [1,0,2]\n])\nb = np.array([\n    [5],  \n    [5],\n    [5]\n])\nprint(a)\nprint(b)\na1 =np.array([a[0,:]]) #pierwszy rząd z a\nb1a =np.array([b[0,:]]) #pojedynczy rząd ,w tym przypadku nawet wyraz\nb2a = np.hstack((b1a,b1a,b1a)) #stworzenie poziomej tablicy trzy-elementowej\na2 =np.array([a[2,:]]) #trzeci rząd z a\n\nc = np.vstack((a1,b2a,a2))\nprint(c)",
      "metadata": {
        "trusted": true
      },
      "execution_count": 17,
      "outputs": [
        {
          "name": "stdout",
          "text": "[[1 2 3]\n [1 2 0]\n [1 0 2]]\n[[5]\n [5]\n [5]]\n[[1 2 3]\n [5 5 5]\n [1 0 2]]\n",
          "output_type": "stream"
        }
      ]
    },
    {
      "cell_type": "code",
      "source": "#zad 24\nf = np.array([\n    [1,2,3],  \n    [1,2,0],\n    [1,0,2]\n])\ng = np.array([\n    [5],  \n    [5],\n    [5]\n])\nprint(f)\nprint(g)\n#f1 =np.array([f[0,:]]).T #pierwszy wiersz zmieniony w kolumnę\nf1 =np.array([f[0,1:3]]) #pierwszy rząd, drugi i trzeci wyraz z f\nf2a =np.array([f[1,0]]) #drugi rząd, pierwszy wyraz\nf2b =np.array([f[1,2]]) #drugi rzad, trzeci wyraz\nf3 =np.array([f[2,0:2]])\n\ng1 =np.array([g[0,:]]) #caly rzad\ng2 =np.array([g[0,0]]) # tylko jeden wyraz\n\nh1 = np.hstack((g1,f1)) #polozone obok siebie tablice roznoelementowe\nh2 = np.hstack((f2a,g2,f2b))\nh3 = np.hstack((f3,g1))\nh_f = np.vstack((h1,h2,h3))\nprint(h_f)",
      "metadata": {
        "trusted": true
      },
      "execution_count": 34,
      "outputs": [
        {
          "name": "stdout",
          "text": "[[1 2 3]\n [1 2 0]\n [1 0 2]]\n[[5]\n [5]\n [5]]\n[[5 2 3]\n [1 5 0]\n [1 0 5]]\n",
          "output_type": "stream"
        }
      ]
    },
    {
      "cell_type": "code",
      "source": "#zadanie 25\nx = np.matrix([[1,0,1], [2,0,1],[3,0,1]])\nprint(x)\nx.transpose()",
      "metadata": {
        "trusted": true
      },
      "execution_count": 36,
      "outputs": [
        {
          "name": "stdout",
          "text": "[[1 0 1]\n [2 0 1]\n [3 0 1]]\n",
          "output_type": "stream"
        },
        {
          "execution_count": 36,
          "output_type": "execute_result",
          "data": {
            "text/plain": "matrix([[1, 2, 3],\n        [0, 0, 0],\n        [1, 1, 1]])"
          },
          "metadata": {}
        }
      ]
    },
    {
      "cell_type": "code",
      "source": "#zadanie 26\nx = np.matrix([[1,0,1], [2,0,1],[3,0,1]])\ny = np.matrix([[1,0,1], [2,0,1],[3,0,1]])\nif x.transpose()==y:\n    print(\"yes\")\nelse:\n    print(\"no\")",
      "metadata": {
        "trusted": true
      },
      "execution_count": 39,
      "outputs": [
        {
          "ename": "<class 'ValueError'>",
          "evalue": "The truth value of an array with more than one element is ambiguous. Use a.any() or a.all()",
          "traceback": [
            "\u001b[0;31m---------------------------------------------------------------------------\u001b[0m",
            "\u001b[0;31mValueError\u001b[0m                                Traceback (most recent call last)",
            "Input \u001b[0;32mIn [39]\u001b[0m, in \u001b[0;36m<cell line: 4>\u001b[0;34m()\u001b[0m\n\u001b[1;32m      2\u001b[0m x \u001b[38;5;241m=\u001b[39m np\u001b[38;5;241m.\u001b[39mmatrix([[\u001b[38;5;241m1\u001b[39m,\u001b[38;5;241m0\u001b[39m,\u001b[38;5;241m1\u001b[39m], [\u001b[38;5;241m2\u001b[39m,\u001b[38;5;241m0\u001b[39m,\u001b[38;5;241m1\u001b[39m],[\u001b[38;5;241m3\u001b[39m,\u001b[38;5;241m0\u001b[39m,\u001b[38;5;241m1\u001b[39m]])\n\u001b[1;32m      3\u001b[0m y \u001b[38;5;241m=\u001b[39m np\u001b[38;5;241m.\u001b[39mmatrix([[\u001b[38;5;241m1\u001b[39m,\u001b[38;5;241m0\u001b[39m,\u001b[38;5;241m1\u001b[39m], [\u001b[38;5;241m2\u001b[39m,\u001b[38;5;241m0\u001b[39m,\u001b[38;5;241m1\u001b[39m],[\u001b[38;5;241m3\u001b[39m,\u001b[38;5;241m0\u001b[39m,\u001b[38;5;241m1\u001b[39m]])\n\u001b[0;32m----> 4\u001b[0m \u001b[38;5;28;01mif\u001b[39;00m \u001b[43mx\u001b[49m\u001b[38;5;241;43m.\u001b[39;49m\u001b[43mtranspose\u001b[49m\u001b[43m(\u001b[49m\u001b[43m)\u001b[49m\u001b[38;5;241;43m==\u001b[39;49m\u001b[43my\u001b[49m:\n\u001b[1;32m      5\u001b[0m     \u001b[38;5;28mprint\u001b[39m(\u001b[38;5;124m\"\u001b[39m\u001b[38;5;124myes\u001b[39m\u001b[38;5;124m\"\u001b[39m)\n\u001b[1;32m      6\u001b[0m \u001b[38;5;28;01melse\u001b[39;00m:\n",
            "\u001b[0;31mValueError\u001b[0m: The truth value of an array with more than one element is ambiguous. Use a.any() or a.all()"
          ],
          "output_type": "error"
        }
      ]
    },
    {
      "cell_type": "code",
      "source": "",
      "metadata": {},
      "execution_count": null,
      "outputs": []
    }
  ]
}