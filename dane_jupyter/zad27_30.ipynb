{
  "metadata": {
    "language_info": {
      "codemirror_mode": {
        "name": "python",
        "version": 3
      },
      "file_extension": ".py",
      "mimetype": "text/x-python",
      "name": "python",
      "nbconvert_exporter": "python",
      "pygments_lexer": "ipython3",
      "version": "3.8"
    },
    "kernelspec": {
      "name": "python",
      "display_name": "Pyolite",
      "language": "python"
    }
  },
  "nbformat_minor": 4,
  "nbformat": 4,
  "cells": [
    {
      "cell_type": "code",
      "source": "import numpy as np",
      "metadata": {
        "trusted": true
      },
      "execution_count": 1,
      "outputs": []
    },
    {
      "cell_type": "code",
      "source": "#zadanie 27\na = np.random.randint(-10,10)\nb = np.random.randint(-10,10,size=(3,4))\n\nprint(a*b)",
      "metadata": {
        "trusted": true
      },
      "execution_count": 12,
      "outputs": [
        {
          "name": "stdout",
          "text": "[[-36  54  48 -30]\n [ 24   0   0  12]\n [-54  36 -36 -24]]\n",
          "output_type": "stream"
        }
      ]
    },
    {
      "cell_type": "code",
      "source": "#zadanie 28\nc = np.random.randint(-10,10,size=(2,3))\nd = np.random.randint(-10,10,size=(3,2))\nprint(c@d) #mnożenie macierzy",
      "metadata": {
        "trusted": true
      },
      "execution_count": 15,
      "outputs": [
        {
          "name": "stdout",
          "text": "[[-70  -6]\n [-50  -8]]\n",
          "output_type": "stream"
        }
      ]
    },
    {
      "cell_type": "code",
      "source": "#zadanie 29\ne = np.array([1, 2, 3, 4])\nf = np.array([5, 6, 7, 8])\nf1 = f.reshape(4,1) \nprint(e@f1)",
      "metadata": {
        "trusted": true
      },
      "execution_count": 20,
      "outputs": [
        {
          "name": "stdout",
          "text": "[70]\n",
          "output_type": "stream"
        }
      ]
    },
    {
      "cell_type": "code",
      "source": "#zadanie 30\nx = np.random.randint(-10,10,size=(2,2))\ny = np.random.randint(-10,10,size=(2,2))\nz = np.random.randint(-10,10,size=(2,3))\nprint(x)\nprint(y)\nprint(z)\nprint(x.transpose())\nprint((x.transpose()-y)@z)",
      "metadata": {
        "trusted": true
      },
      "execution_count": 24,
      "outputs": [
        {
          "name": "stdout",
          "text": "[[ 3  2]\n [-2 -2]]\n[[ 9  2]\n [-8 -1]]\n[[ -6   8   3]\n [-10   9   7]]\n[[ 3 -2]\n [ 2 -2]]\n[[ 76 -84 -46]\n [-50  71  23]]\n",
          "output_type": "stream"
        }
      ]
    },
    {
      "cell_type": "code",
      "source": "",
      "metadata": {},
      "execution_count": null,
      "outputs": []
    }
  ]
}