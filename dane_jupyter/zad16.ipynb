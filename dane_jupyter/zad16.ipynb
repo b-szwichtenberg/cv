{
  "metadata": {
    "language_info": {
      "codemirror_mode": {
        "name": "python",
        "version": 3
      },
      "file_extension": ".py",
      "mimetype": "text/x-python",
      "name": "python",
      "nbconvert_exporter": "python",
      "pygments_lexer": "ipython3",
      "version": "3.8"
    },
    "kernelspec": {
      "name": "python",
      "display_name": "Pyolite",
      "language": "python"
    }
  },
  "nbformat_minor": 4,
  "nbformat": 4,
  "cells": [
    {
      "cell_type": "code",
      "source": "import pandas as pd",
      "metadata": {
        "trusted": true
      },
      "execution_count": 1,
      "outputs": []
    },
    {
      "cell_type": "code",
      "source": "##zadanie 16\ndf=pd.DataFrame()\nt1=[[\"Styczeń\",\"January\"],[\"Luty\",\"February\"],[\"Marzec\",\"March\"],[\"Kwiecień\",\"April\"],[\"Maj\",\"May\"],\n    [\"Czerwiec\",\"June\"],[\"Lipiec\",\"July\"],[\"Sierpień\",\"August\"],[\"Wrzesień\",\"September\"],[\"Październik\",\"October\"]]\ndf=pd.DataFrame(t1)\ndf",
      "metadata": {
        "trusted": true
      },
      "execution_count": 72,
      "outputs": [
        {
          "execution_count": 72,
          "output_type": "execute_result",
          "data": {
            "text/plain": "             0          1\n0      Styczeń    January\n1         Luty   February\n2       Marzec      March\n3     Kwiecień      April\n4          Maj        May\n5     Czerwiec       June\n6       Lipiec       July\n7     Sierpień     August\n8     Wrzesień  September\n9  Październik    October",
            "text/html": "<div>\n<style scoped>\n    .dataframe tbody tr th:only-of-type {\n        vertical-align: middle;\n    }\n\n    .dataframe tbody tr th {\n        vertical-align: top;\n    }\n\n    .dataframe thead th {\n        text-align: right;\n    }\n</style>\n<table border=\"1\" class=\"dataframe\">\n  <thead>\n    <tr style=\"text-align: right;\">\n      <th></th>\n      <th>0</th>\n      <th>1</th>\n    </tr>\n  </thead>\n  <tbody>\n    <tr>\n      <th>0</th>\n      <td>Styczeń</td>\n      <td>January</td>\n    </tr>\n    <tr>\n      <th>1</th>\n      <td>Luty</td>\n      <td>February</td>\n    </tr>\n    <tr>\n      <th>2</th>\n      <td>Marzec</td>\n      <td>March</td>\n    </tr>\n    <tr>\n      <th>3</th>\n      <td>Kwiecień</td>\n      <td>April</td>\n    </tr>\n    <tr>\n      <th>4</th>\n      <td>Maj</td>\n      <td>May</td>\n    </tr>\n    <tr>\n      <th>5</th>\n      <td>Czerwiec</td>\n      <td>June</td>\n    </tr>\n    <tr>\n      <th>6</th>\n      <td>Lipiec</td>\n      <td>July</td>\n    </tr>\n    <tr>\n      <th>7</th>\n      <td>Sierpień</td>\n      <td>August</td>\n    </tr>\n    <tr>\n      <th>8</th>\n      <td>Wrzesień</td>\n      <td>September</td>\n    </tr>\n    <tr>\n      <th>9</th>\n      <td>Październik</td>\n      <td>October</td>\n    </tr>\n  </tbody>\n</table>\n</div>"
          },
          "metadata": {}
        }
      ]
    },
    {
      "cell_type": "code",
      "source": "#zad 16 ciąg dalszy\nprint(df.shape) \nprint(df.columns) #nazwy kolumn, są podane indeksy bo nie nazwałem kolumn\nprint(df.index) #rzędy [indeksy]\ndf_join=pd.DataFrame(([\"Listopad\",\"November\"],[\"Grudzień\",\"December\"]),columns=[0,1]) \ndf=pd.concat([df,df_join])\ndf=df.reset_index(drop=True)\ndf",
      "metadata": {
        "trusted": true
      },
      "execution_count": 73,
      "outputs": [
        {
          "name": "stdout",
          "text": "(10, 2)\nRangeIndex(start=0, stop=2, step=1)\nRangeIndex(start=0, stop=10, step=1)\n",
          "output_type": "stream"
        },
        {
          "execution_count": 73,
          "output_type": "execute_result",
          "data": {
            "text/plain": "              0          1\n0       Styczeń    January\n1          Luty   February\n2        Marzec      March\n3      Kwiecień      April\n4           Maj        May\n5      Czerwiec       June\n6        Lipiec       July\n7      Sierpień     August\n8      Wrzesień  September\n9   Październik    October\n10     Listopad   November\n11     Grudzień   December",
            "text/html": "<div>\n<style scoped>\n    .dataframe tbody tr th:only-of-type {\n        vertical-align: middle;\n    }\n\n    .dataframe tbody tr th {\n        vertical-align: top;\n    }\n\n    .dataframe thead th {\n        text-align: right;\n    }\n</style>\n<table border=\"1\" class=\"dataframe\">\n  <thead>\n    <tr style=\"text-align: right;\">\n      <th></th>\n      <th>0</th>\n      <th>1</th>\n    </tr>\n  </thead>\n  <tbody>\n    <tr>\n      <th>0</th>\n      <td>Styczeń</td>\n      <td>January</td>\n    </tr>\n    <tr>\n      <th>1</th>\n      <td>Luty</td>\n      <td>February</td>\n    </tr>\n    <tr>\n      <th>2</th>\n      <td>Marzec</td>\n      <td>March</td>\n    </tr>\n    <tr>\n      <th>3</th>\n      <td>Kwiecień</td>\n      <td>April</td>\n    </tr>\n    <tr>\n      <th>4</th>\n      <td>Maj</td>\n      <td>May</td>\n    </tr>\n    <tr>\n      <th>5</th>\n      <td>Czerwiec</td>\n      <td>June</td>\n    </tr>\n    <tr>\n      <th>6</th>\n      <td>Lipiec</td>\n      <td>July</td>\n    </tr>\n    <tr>\n      <th>7</th>\n      <td>Sierpień</td>\n      <td>August</td>\n    </tr>\n    <tr>\n      <th>8</th>\n      <td>Wrzesień</td>\n      <td>September</td>\n    </tr>\n    <tr>\n      <th>9</th>\n      <td>Październik</td>\n      <td>October</td>\n    </tr>\n    <tr>\n      <th>10</th>\n      <td>Listopad</td>\n      <td>November</td>\n    </tr>\n    <tr>\n      <th>11</th>\n      <td>Grudzień</td>\n      <td>December</td>\n    </tr>\n  </tbody>\n</table>\n</div>"
          },
          "metadata": {}
        }
      ]
    },
    {
      "cell_type": "code",
      "source": "#zad 16 ciąg dalszy\n\ndf.columns=([\"PL\",\"ENG\"])\n#df = df.rename(columns={'kol1': 'kol3'}) - tylko jedna kolumna\ndf.sort_values(\"PL\", ascending=False)\ndf",
      "metadata": {
        "trusted": true
      },
      "execution_count": 76,
      "outputs": [
        {
          "execution_count": 76,
          "output_type": "execute_result",
          "data": {
            "text/plain": "             PL        ENG\n0       Styczeń    January\n1          Luty   February\n2        Marzec      March\n3      Kwiecień      April\n4           Maj        May\n5      Czerwiec       June\n6        Lipiec       July\n7      Sierpień     August\n8      Wrzesień  September\n9   Październik    October\n10     Listopad   November\n11     Grudzień   December",
            "text/html": "<div>\n<style scoped>\n    .dataframe tbody tr th:only-of-type {\n        vertical-align: middle;\n    }\n\n    .dataframe tbody tr th {\n        vertical-align: top;\n    }\n\n    .dataframe thead th {\n        text-align: right;\n    }\n</style>\n<table border=\"1\" class=\"dataframe\">\n  <thead>\n    <tr style=\"text-align: right;\">\n      <th></th>\n      <th>PL</th>\n      <th>ENG</th>\n    </tr>\n  </thead>\n  <tbody>\n    <tr>\n      <th>0</th>\n      <td>Styczeń</td>\n      <td>January</td>\n    </tr>\n    <tr>\n      <th>1</th>\n      <td>Luty</td>\n      <td>February</td>\n    </tr>\n    <tr>\n      <th>2</th>\n      <td>Marzec</td>\n      <td>March</td>\n    </tr>\n    <tr>\n      <th>3</th>\n      <td>Kwiecień</td>\n      <td>April</td>\n    </tr>\n    <tr>\n      <th>4</th>\n      <td>Maj</td>\n      <td>May</td>\n    </tr>\n    <tr>\n      <th>5</th>\n      <td>Czerwiec</td>\n      <td>June</td>\n    </tr>\n    <tr>\n      <th>6</th>\n      <td>Lipiec</td>\n      <td>July</td>\n    </tr>\n    <tr>\n      <th>7</th>\n      <td>Sierpień</td>\n      <td>August</td>\n    </tr>\n    <tr>\n      <th>8</th>\n      <td>Wrzesień</td>\n      <td>September</td>\n    </tr>\n    <tr>\n      <th>9</th>\n      <td>Październik</td>\n      <td>October</td>\n    </tr>\n    <tr>\n      <th>10</th>\n      <td>Listopad</td>\n      <td>November</td>\n    </tr>\n    <tr>\n      <th>11</th>\n      <td>Grudzień</td>\n      <td>December</td>\n    </tr>\n  </tbody>\n</table>\n</div>"
          },
          "metadata": {}
        }
      ]
    },
    {
      "cell_type": "code",
      "source": "",
      "metadata": {},
      "execution_count": null,
      "outputs": []
    },
    {
      "cell_type": "code",
      "source": "",
      "metadata": {},
      "execution_count": null,
      "outputs": []
    }
  ]
}