{
  "metadata": {
    "language_info": {
      "codemirror_mode": {
        "name": "python",
        "version": 3
      },
      "file_extension": ".py",
      "mimetype": "text/x-python",
      "name": "python",
      "nbconvert_exporter": "python",
      "pygments_lexer": "ipython3",
      "version": "3.8"
    },
    "kernelspec": {
      "name": "python",
      "display_name": "Pyolite",
      "language": "python"
    }
  },
  "nbformat_minor": 4,
  "nbformat": 4,
  "cells": [
    {
      "cell_type": "code",
      "source": "#zadanie 31\nimport numpy as np\ndef func_1(rows,columns):\n    result = np.ones((rows,columns))\n    print(result)\n    if rows != columns:\n        x = result[rows-1].sum()\n        y = result[:, columns-1].sum() #obliczanie sumy w ostatniej kolumnie; -1 ponieważ odnoszę się do indeksu a przy wywoływaniu funkcji podaję ilość\n        print(x,y)\nfunc_1(2,4)\n",
      "metadata": {
        "trusted": true
      },
      "execution_count": 16,
      "outputs": [
        {
          "name": "stdout",
          "text": "[[1. 1. 1. 1.]\n [1. 1. 1. 1.]]\n4.0 2.0\n",
          "output_type": "stream"
        }
      ]
    },
    {
      "cell_type": "code",
      "source": "#zadanie 32\ndef func_2(n):\n    factorial = 1\n    for i in range(1,n+1):\n        factorial = factorial * i\n    print (\"Silnia z\", n, \"wynosi: \",factorial)\nfunc_2(4)",
      "metadata": {
        "trusted": true
      },
      "execution_count": 27,
      "outputs": [
        {
          "name": "stdout",
          "text": "Silnia z 4 wynosi:  24\n",
          "output_type": "stream"
        }
      ]
    },
    {
      "cell_type": "code",
      "source": "#zadanie 33\nfrom math import factorial\ndef func_3(n):\n    for i in range(n):\n        for j in range(n-i+1):\n            print(end =\" \")\n        for j in range(i+1):\n            print(factorial(i)//(factorial(j)*factorial(i-j)), end=\" \")\n        print()\n        \nfunc_3(6)",
      "metadata": {
        "trusted": true
      },
      "execution_count": 44,
      "outputs": [
        {
          "name": "stdout",
          "text": "       1 \n      1 1 \n     1 2 1 \n    1 3 3 1 \n   1 4 6 4 1 \n  1 5 10 10 5 1 \n",
          "output_type": "stream"
        }
      ]
    },
    {
      "cell_type": "code",
      "source": "",
      "metadata": {},
      "execution_count": null,
      "outputs": []
    }
  ]
}