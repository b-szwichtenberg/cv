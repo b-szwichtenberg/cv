{
  "metadata": {
    "language_info": {
      "codemirror_mode": {
        "name": "python",
        "version": 3
      },
      "file_extension": ".py",
      "mimetype": "text/x-python",
      "name": "python",
      "nbconvert_exporter": "python",
      "pygments_lexer": "ipython3",
      "version": "3.8"
    },
    "kernelspec": {
      "name": "python",
      "display_name": "Pyolite",
      "language": "python"
    }
  },
  "nbformat_minor": 4,
  "nbformat": 4,
  "cells": [
    {
      "cell_type": "code",
      "source": "import numpy as np\nimport pandas as pd",
      "metadata": {
        "trusted": true
      },
      "execution_count": 1,
      "outputs": []
    },
    {
      "cell_type": "code",
      "source": "#zadanie 17\ndf = pd.DataFrame(np.random.randint(0,100,size=(20,10)),columns=[1,2,3,4,5,6,7,8,9,10])\ndf",
      "metadata": {
        "trusted": true
      },
      "execution_count": 3,
      "outputs": [
        {
          "execution_count": 3,
          "output_type": "execute_result",
          "data": {
            "text/plain": "    1   2   3   4   5   6   7   8   9   10\n0   31  45  26  71  86  74  65  62  65   8\n1   41  57  94  34  12  99  72  61  26  73\n2   52  67  29  45   3  13  53  10  55  32\n3   15  65  63  23  38  67  40  32  91  43\n4   21  50  21  78   7  23  43  76  65  32\n5   52   7  58  25  54  28  47  41  72  77\n6   87  13  37  92  18  33  22  10  88  86\n7   66  34  80  64  87  91  84   2  89  32\n8   87  52  60  82  84  55  43  40  31  76\n9   96  43  48  45  15  72  91  88  89  57\n10  41  78   0  84  58  10  48  78  38  50\n11  77  32  94  57  83   9  30  91  75  11\n12  90  54   8  75  21  98  66  17  70   1\n13  49  80  32  62  51  66  52  33  13  90\n14  19  81   6  95  26  31  22  85   9  37\n15  80  56  84  93  48  31  49   2  25  54\n16  92  92  84  95   7  32   4  97  28  59\n17  79  75   6  11  61  28  17  13  77  14\n18  86  84  84  16  70  80  76  47  80  75\n19  40  83  89  59   1  18  33  12  58   0",
            "text/html": "<div>\n<style scoped>\n    .dataframe tbody tr th:only-of-type {\n        vertical-align: middle;\n    }\n\n    .dataframe tbody tr th {\n        vertical-align: top;\n    }\n\n    .dataframe thead th {\n        text-align: right;\n    }\n</style>\n<table border=\"1\" class=\"dataframe\">\n  <thead>\n    <tr style=\"text-align: right;\">\n      <th></th>\n      <th>1</th>\n      <th>2</th>\n      <th>3</th>\n      <th>4</th>\n      <th>5</th>\n      <th>6</th>\n      <th>7</th>\n      <th>8</th>\n      <th>9</th>\n      <th>10</th>\n    </tr>\n  </thead>\n  <tbody>\n    <tr>\n      <th>0</th>\n      <td>31</td>\n      <td>45</td>\n      <td>26</td>\n      <td>71</td>\n      <td>86</td>\n      <td>74</td>\n      <td>65</td>\n      <td>62</td>\n      <td>65</td>\n      <td>8</td>\n    </tr>\n    <tr>\n      <th>1</th>\n      <td>41</td>\n      <td>57</td>\n      <td>94</td>\n      <td>34</td>\n      <td>12</td>\n      <td>99</td>\n      <td>72</td>\n      <td>61</td>\n      <td>26</td>\n      <td>73</td>\n    </tr>\n    <tr>\n      <th>2</th>\n      <td>52</td>\n      <td>67</td>\n      <td>29</td>\n      <td>45</td>\n      <td>3</td>\n      <td>13</td>\n      <td>53</td>\n      <td>10</td>\n      <td>55</td>\n      <td>32</td>\n    </tr>\n    <tr>\n      <th>3</th>\n      <td>15</td>\n      <td>65</td>\n      <td>63</td>\n      <td>23</td>\n      <td>38</td>\n      <td>67</td>\n      <td>40</td>\n      <td>32</td>\n      <td>91</td>\n      <td>43</td>\n    </tr>\n    <tr>\n      <th>4</th>\n      <td>21</td>\n      <td>50</td>\n      <td>21</td>\n      <td>78</td>\n      <td>7</td>\n      <td>23</td>\n      <td>43</td>\n      <td>76</td>\n      <td>65</td>\n      <td>32</td>\n    </tr>\n    <tr>\n      <th>5</th>\n      <td>52</td>\n      <td>7</td>\n      <td>58</td>\n      <td>25</td>\n      <td>54</td>\n      <td>28</td>\n      <td>47</td>\n      <td>41</td>\n      <td>72</td>\n      <td>77</td>\n    </tr>\n    <tr>\n      <th>6</th>\n      <td>87</td>\n      <td>13</td>\n      <td>37</td>\n      <td>92</td>\n      <td>18</td>\n      <td>33</td>\n      <td>22</td>\n      <td>10</td>\n      <td>88</td>\n      <td>86</td>\n    </tr>\n    <tr>\n      <th>7</th>\n      <td>66</td>\n      <td>34</td>\n      <td>80</td>\n      <td>64</td>\n      <td>87</td>\n      <td>91</td>\n      <td>84</td>\n      <td>2</td>\n      <td>89</td>\n      <td>32</td>\n    </tr>\n    <tr>\n      <th>8</th>\n      <td>87</td>\n      <td>52</td>\n      <td>60</td>\n      <td>82</td>\n      <td>84</td>\n      <td>55</td>\n      <td>43</td>\n      <td>40</td>\n      <td>31</td>\n      <td>76</td>\n    </tr>\n    <tr>\n      <th>9</th>\n      <td>96</td>\n      <td>43</td>\n      <td>48</td>\n      <td>45</td>\n      <td>15</td>\n      <td>72</td>\n      <td>91</td>\n      <td>88</td>\n      <td>89</td>\n      <td>57</td>\n    </tr>\n    <tr>\n      <th>10</th>\n      <td>41</td>\n      <td>78</td>\n      <td>0</td>\n      <td>84</td>\n      <td>58</td>\n      <td>10</td>\n      <td>48</td>\n      <td>78</td>\n      <td>38</td>\n      <td>50</td>\n    </tr>\n    <tr>\n      <th>11</th>\n      <td>77</td>\n      <td>32</td>\n      <td>94</td>\n      <td>57</td>\n      <td>83</td>\n      <td>9</td>\n      <td>30</td>\n      <td>91</td>\n      <td>75</td>\n      <td>11</td>\n    </tr>\n    <tr>\n      <th>12</th>\n      <td>90</td>\n      <td>54</td>\n      <td>8</td>\n      <td>75</td>\n      <td>21</td>\n      <td>98</td>\n      <td>66</td>\n      <td>17</td>\n      <td>70</td>\n      <td>1</td>\n    </tr>\n    <tr>\n      <th>13</th>\n      <td>49</td>\n      <td>80</td>\n      <td>32</td>\n      <td>62</td>\n      <td>51</td>\n      <td>66</td>\n      <td>52</td>\n      <td>33</td>\n      <td>13</td>\n      <td>90</td>\n    </tr>\n    <tr>\n      <th>14</th>\n      <td>19</td>\n      <td>81</td>\n      <td>6</td>\n      <td>95</td>\n      <td>26</td>\n      <td>31</td>\n      <td>22</td>\n      <td>85</td>\n      <td>9</td>\n      <td>37</td>\n    </tr>\n    <tr>\n      <th>15</th>\n      <td>80</td>\n      <td>56</td>\n      <td>84</td>\n      <td>93</td>\n      <td>48</td>\n      <td>31</td>\n      <td>49</td>\n      <td>2</td>\n      <td>25</td>\n      <td>54</td>\n    </tr>\n    <tr>\n      <th>16</th>\n      <td>92</td>\n      <td>92</td>\n      <td>84</td>\n      <td>95</td>\n      <td>7</td>\n      <td>32</td>\n      <td>4</td>\n      <td>97</td>\n      <td>28</td>\n      <td>59</td>\n    </tr>\n    <tr>\n      <th>17</th>\n      <td>79</td>\n      <td>75</td>\n      <td>6</td>\n      <td>11</td>\n      <td>61</td>\n      <td>28</td>\n      <td>17</td>\n      <td>13</td>\n      <td>77</td>\n      <td>14</td>\n    </tr>\n    <tr>\n      <th>18</th>\n      <td>86</td>\n      <td>84</td>\n      <td>84</td>\n      <td>16</td>\n      <td>70</td>\n      <td>80</td>\n      <td>76</td>\n      <td>47</td>\n      <td>80</td>\n      <td>75</td>\n    </tr>\n    <tr>\n      <th>19</th>\n      <td>40</td>\n      <td>83</td>\n      <td>89</td>\n      <td>59</td>\n      <td>1</td>\n      <td>18</td>\n      <td>33</td>\n      <td>12</td>\n      <td>58</td>\n      <td>0</td>\n    </tr>\n  </tbody>\n</table>\n</div>"
          },
          "metadata": {}
        }
      ]
    },
    {
      "cell_type": "code",
      "source": "#zadanie 18\nprint(min(df.iloc[9,:])) #10 wiersz ma indeks 9, czyli wyrazy z 10 wiersza dla każdej kolumny -> :\nprint(max(df.iloc[:,-1])) #-1 to ostatnia kolumna\ndf.iloc[0:10,:] #10 pierwszych wierszy dla wszystkich kolumn, indeksy od 0 do 10 dałyby niby 11 wierszy ale przy podawaniu przedziału\n#lewa strona jest domknięta a prawa otwarta, więc wiersz o indeksie 10 się nie liczy\ndf.iloc[0:10,[5,6,7]] #10 pierwszych wierszy dla kolumn 6,7,8\n\n#kopiowanie\ndf_copy=df.copy()\ndf_copy\n\n\n#eksport ramki do pliku\ndf_copy.to_csv('imie_i_nazwisko.csv',index=False)\n#eksport pliku do ramki\ndf2 = pd.read_csv('imie_i_nazwisko.csv')",
      "metadata": {
        "trusted": true
      },
      "execution_count": 12,
      "outputs": [
        {
          "name": "stdout",
          "text": "15\n90\n",
          "output_type": "stream"
        },
        {
          "execution_count": 12,
          "output_type": "execute_result",
          "data": {
            "text/plain": "    Unnamed: 0   1   2   3   4   5   6   7   8   9  10\n0            0  31  45  26  71  86  74  65  62  65   8\n1            1  41  57  94  34  12  99  72  61  26  73\n2            2  52  67  29  45   3  13  53  10  55  32\n3            3  15  65  63  23  38  67  40  32  91  43\n4            4  21  50  21  78   7  23  43  76  65  32\n5            5  52   7  58  25  54  28  47  41  72  77\n6            6  87  13  37  92  18  33  22  10  88  86\n7            7  66  34  80  64  87  91  84   2  89  32\n8            8  87  52  60  82  84  55  43  40  31  76\n9            9  96  43  48  45  15  72  91  88  89  57\n10          10  41  78   0  84  58  10  48  78  38  50\n11          11  77  32  94  57  83   9  30  91  75  11\n12          12  90  54   8  75  21  98  66  17  70   1\n13          13  49  80  32  62  51  66  52  33  13  90\n14          14  19  81   6  95  26  31  22  85   9  37\n15          15  80  56  84  93  48  31  49   2  25  54\n16          16  92  92  84  95   7  32   4  97  28  59\n17          17  79  75   6  11  61  28  17  13  77  14\n18          18  86  84  84  16  70  80  76  47  80  75\n19          19  40  83  89  59   1  18  33  12  58   0",
            "text/html": "<div>\n<style scoped>\n    .dataframe tbody tr th:only-of-type {\n        vertical-align: middle;\n    }\n\n    .dataframe tbody tr th {\n        vertical-align: top;\n    }\n\n    .dataframe thead th {\n        text-align: right;\n    }\n</style>\n<table border=\"1\" class=\"dataframe\">\n  <thead>\n    <tr style=\"text-align: right;\">\n      <th></th>\n      <th>Unnamed: 0</th>\n      <th>1</th>\n      <th>2</th>\n      <th>3</th>\n      <th>4</th>\n      <th>5</th>\n      <th>6</th>\n      <th>7</th>\n      <th>8</th>\n      <th>9</th>\n      <th>10</th>\n    </tr>\n  </thead>\n  <tbody>\n    <tr>\n      <th>0</th>\n      <td>0</td>\n      <td>31</td>\n      <td>45</td>\n      <td>26</td>\n      <td>71</td>\n      <td>86</td>\n      <td>74</td>\n      <td>65</td>\n      <td>62</td>\n      <td>65</td>\n      <td>8</td>\n    </tr>\n    <tr>\n      <th>1</th>\n      <td>1</td>\n      <td>41</td>\n      <td>57</td>\n      <td>94</td>\n      <td>34</td>\n      <td>12</td>\n      <td>99</td>\n      <td>72</td>\n      <td>61</td>\n      <td>26</td>\n      <td>73</td>\n    </tr>\n    <tr>\n      <th>2</th>\n      <td>2</td>\n      <td>52</td>\n      <td>67</td>\n      <td>29</td>\n      <td>45</td>\n      <td>3</td>\n      <td>13</td>\n      <td>53</td>\n      <td>10</td>\n      <td>55</td>\n      <td>32</td>\n    </tr>\n    <tr>\n      <th>3</th>\n      <td>3</td>\n      <td>15</td>\n      <td>65</td>\n      <td>63</td>\n      <td>23</td>\n      <td>38</td>\n      <td>67</td>\n      <td>40</td>\n      <td>32</td>\n      <td>91</td>\n      <td>43</td>\n    </tr>\n    <tr>\n      <th>4</th>\n      <td>4</td>\n      <td>21</td>\n      <td>50</td>\n      <td>21</td>\n      <td>78</td>\n      <td>7</td>\n      <td>23</td>\n      <td>43</td>\n      <td>76</td>\n      <td>65</td>\n      <td>32</td>\n    </tr>\n    <tr>\n      <th>5</th>\n      <td>5</td>\n      <td>52</td>\n      <td>7</td>\n      <td>58</td>\n      <td>25</td>\n      <td>54</td>\n      <td>28</td>\n      <td>47</td>\n      <td>41</td>\n      <td>72</td>\n      <td>77</td>\n    </tr>\n    <tr>\n      <th>6</th>\n      <td>6</td>\n      <td>87</td>\n      <td>13</td>\n      <td>37</td>\n      <td>92</td>\n      <td>18</td>\n      <td>33</td>\n      <td>22</td>\n      <td>10</td>\n      <td>88</td>\n      <td>86</td>\n    </tr>\n    <tr>\n      <th>7</th>\n      <td>7</td>\n      <td>66</td>\n      <td>34</td>\n      <td>80</td>\n      <td>64</td>\n      <td>87</td>\n      <td>91</td>\n      <td>84</td>\n      <td>2</td>\n      <td>89</td>\n      <td>32</td>\n    </tr>\n    <tr>\n      <th>8</th>\n      <td>8</td>\n      <td>87</td>\n      <td>52</td>\n      <td>60</td>\n      <td>82</td>\n      <td>84</td>\n      <td>55</td>\n      <td>43</td>\n      <td>40</td>\n      <td>31</td>\n      <td>76</td>\n    </tr>\n    <tr>\n      <th>9</th>\n      <td>9</td>\n      <td>96</td>\n      <td>43</td>\n      <td>48</td>\n      <td>45</td>\n      <td>15</td>\n      <td>72</td>\n      <td>91</td>\n      <td>88</td>\n      <td>89</td>\n      <td>57</td>\n    </tr>\n    <tr>\n      <th>10</th>\n      <td>10</td>\n      <td>41</td>\n      <td>78</td>\n      <td>0</td>\n      <td>84</td>\n      <td>58</td>\n      <td>10</td>\n      <td>48</td>\n      <td>78</td>\n      <td>38</td>\n      <td>50</td>\n    </tr>\n    <tr>\n      <th>11</th>\n      <td>11</td>\n      <td>77</td>\n      <td>32</td>\n      <td>94</td>\n      <td>57</td>\n      <td>83</td>\n      <td>9</td>\n      <td>30</td>\n      <td>91</td>\n      <td>75</td>\n      <td>11</td>\n    </tr>\n    <tr>\n      <th>12</th>\n      <td>12</td>\n      <td>90</td>\n      <td>54</td>\n      <td>8</td>\n      <td>75</td>\n      <td>21</td>\n      <td>98</td>\n      <td>66</td>\n      <td>17</td>\n      <td>70</td>\n      <td>1</td>\n    </tr>\n    <tr>\n      <th>13</th>\n      <td>13</td>\n      <td>49</td>\n      <td>80</td>\n      <td>32</td>\n      <td>62</td>\n      <td>51</td>\n      <td>66</td>\n      <td>52</td>\n      <td>33</td>\n      <td>13</td>\n      <td>90</td>\n    </tr>\n    <tr>\n      <th>14</th>\n      <td>14</td>\n      <td>19</td>\n      <td>81</td>\n      <td>6</td>\n      <td>95</td>\n      <td>26</td>\n      <td>31</td>\n      <td>22</td>\n      <td>85</td>\n      <td>9</td>\n      <td>37</td>\n    </tr>\n    <tr>\n      <th>15</th>\n      <td>15</td>\n      <td>80</td>\n      <td>56</td>\n      <td>84</td>\n      <td>93</td>\n      <td>48</td>\n      <td>31</td>\n      <td>49</td>\n      <td>2</td>\n      <td>25</td>\n      <td>54</td>\n    </tr>\n    <tr>\n      <th>16</th>\n      <td>16</td>\n      <td>92</td>\n      <td>92</td>\n      <td>84</td>\n      <td>95</td>\n      <td>7</td>\n      <td>32</td>\n      <td>4</td>\n      <td>97</td>\n      <td>28</td>\n      <td>59</td>\n    </tr>\n    <tr>\n      <th>17</th>\n      <td>17</td>\n      <td>79</td>\n      <td>75</td>\n      <td>6</td>\n      <td>11</td>\n      <td>61</td>\n      <td>28</td>\n      <td>17</td>\n      <td>13</td>\n      <td>77</td>\n      <td>14</td>\n    </tr>\n    <tr>\n      <th>18</th>\n      <td>18</td>\n      <td>86</td>\n      <td>84</td>\n      <td>84</td>\n      <td>16</td>\n      <td>70</td>\n      <td>80</td>\n      <td>76</td>\n      <td>47</td>\n      <td>80</td>\n      <td>75</td>\n    </tr>\n    <tr>\n      <th>19</th>\n      <td>19</td>\n      <td>40</td>\n      <td>83</td>\n      <td>89</td>\n      <td>59</td>\n      <td>1</td>\n      <td>18</td>\n      <td>33</td>\n      <td>12</td>\n      <td>58</td>\n      <td>0</td>\n    </tr>\n  </tbody>\n</table>\n</div>"
          },
          "metadata": {}
        }
      ]
    },
    {
      "cell_type": "code",
      "source": "#zadanie 19\ndfl = pd.DataFrame(np.random.randint(0,100,size=(20,1)),columns=[1,])\ndfl2=df.copy()\ndfl = pd.concat([dfl, dfl2], axis=1)\ndfl_cp=dfl.copy()\ndfl_cp\n# dfl_cp.iloc[[5,6,7],[5,6,7]]\ndfl_cp.drop(dfl_cp.iloc[[5,6,7],[5,6,7]])",
      "metadata": {
        "trusted": true
      },
      "execution_count": 25,
      "outputs": [
        {
          "execution_count": 25,
          "output_type": "execute_result",
          "data": {
            "text/plain": "    1   1   2   3   4   5   6   7   8   9   10\n0    1  31  45  26  71  86  74  65  62  65   8\n1   92  41  57  94  34  12  99  72  61  26  73\n2   92  52  67  29  45   3  13  53  10  55  32\n3   16  15  65  63  23  38  67  40  32  91  43\n4   26  21  50  21  78   7  23  43  76  65  32\n8   14  87  52  60  82  84  55  43  40  31  76\n9   72  96  43  48  45  15  72  91  88  89  57\n10  76  41  78   0  84  58  10  48  78  38  50\n11  48  77  32  94  57  83   9  30  91  75  11\n12   0  90  54   8  75  21  98  66  17  70   1\n13  10  49  80  32  62  51  66  52  33  13  90\n14  12  19  81   6  95  26  31  22  85   9  37\n15  65  80  56  84  93  48  31  49   2  25  54\n16  41  92  92  84  95   7  32   4  97  28  59\n17  92  79  75   6  11  61  28  17  13  77  14\n18  88  86  84  84  16  70  80  76  47  80  75\n19  31  40  83  89  59   1  18  33  12  58   0",
            "text/html": "<div>\n<style scoped>\n    .dataframe tbody tr th:only-of-type {\n        vertical-align: middle;\n    }\n\n    .dataframe tbody tr th {\n        vertical-align: top;\n    }\n\n    .dataframe thead th {\n        text-align: right;\n    }\n</style>\n<table border=\"1\" class=\"dataframe\">\n  <thead>\n    <tr style=\"text-align: right;\">\n      <th></th>\n      <th>1</th>\n      <th>1</th>\n      <th>2</th>\n      <th>3</th>\n      <th>4</th>\n      <th>5</th>\n      <th>6</th>\n      <th>7</th>\n      <th>8</th>\n      <th>9</th>\n      <th>10</th>\n    </tr>\n  </thead>\n  <tbody>\n    <tr>\n      <th>0</th>\n      <td>1</td>\n      <td>31</td>\n      <td>45</td>\n      <td>26</td>\n      <td>71</td>\n      <td>86</td>\n      <td>74</td>\n      <td>65</td>\n      <td>62</td>\n      <td>65</td>\n      <td>8</td>\n    </tr>\n    <tr>\n      <th>1</th>\n      <td>92</td>\n      <td>41</td>\n      <td>57</td>\n      <td>94</td>\n      <td>34</td>\n      <td>12</td>\n      <td>99</td>\n      <td>72</td>\n      <td>61</td>\n      <td>26</td>\n      <td>73</td>\n    </tr>\n    <tr>\n      <th>2</th>\n      <td>92</td>\n      <td>52</td>\n      <td>67</td>\n      <td>29</td>\n      <td>45</td>\n      <td>3</td>\n      <td>13</td>\n      <td>53</td>\n      <td>10</td>\n      <td>55</td>\n      <td>32</td>\n    </tr>\n    <tr>\n      <th>3</th>\n      <td>16</td>\n      <td>15</td>\n      <td>65</td>\n      <td>63</td>\n      <td>23</td>\n      <td>38</td>\n      <td>67</td>\n      <td>40</td>\n      <td>32</td>\n      <td>91</td>\n      <td>43</td>\n    </tr>\n    <tr>\n      <th>4</th>\n      <td>26</td>\n      <td>21</td>\n      <td>50</td>\n      <td>21</td>\n      <td>78</td>\n      <td>7</td>\n      <td>23</td>\n      <td>43</td>\n      <td>76</td>\n      <td>65</td>\n      <td>32</td>\n    </tr>\n    <tr>\n      <th>8</th>\n      <td>14</td>\n      <td>87</td>\n      <td>52</td>\n      <td>60</td>\n      <td>82</td>\n      <td>84</td>\n      <td>55</td>\n      <td>43</td>\n      <td>40</td>\n      <td>31</td>\n      <td>76</td>\n    </tr>\n    <tr>\n      <th>9</th>\n      <td>72</td>\n      <td>96</td>\n      <td>43</td>\n      <td>48</td>\n      <td>45</td>\n      <td>15</td>\n      <td>72</td>\n      <td>91</td>\n      <td>88</td>\n      <td>89</td>\n      <td>57</td>\n    </tr>\n    <tr>\n      <th>10</th>\n      <td>76</td>\n      <td>41</td>\n      <td>78</td>\n      <td>0</td>\n      <td>84</td>\n      <td>58</td>\n      <td>10</td>\n      <td>48</td>\n      <td>78</td>\n      <td>38</td>\n      <td>50</td>\n    </tr>\n    <tr>\n      <th>11</th>\n      <td>48</td>\n      <td>77</td>\n      <td>32</td>\n      <td>94</td>\n      <td>57</td>\n      <td>83</td>\n      <td>9</td>\n      <td>30</td>\n      <td>91</td>\n      <td>75</td>\n      <td>11</td>\n    </tr>\n    <tr>\n      <th>12</th>\n      <td>0</td>\n      <td>90</td>\n      <td>54</td>\n      <td>8</td>\n      <td>75</td>\n      <td>21</td>\n      <td>98</td>\n      <td>66</td>\n      <td>17</td>\n      <td>70</td>\n      <td>1</td>\n    </tr>\n    <tr>\n      <th>13</th>\n      <td>10</td>\n      <td>49</td>\n      <td>80</td>\n      <td>32</td>\n      <td>62</td>\n      <td>51</td>\n      <td>66</td>\n      <td>52</td>\n      <td>33</td>\n      <td>13</td>\n      <td>90</td>\n    </tr>\n    <tr>\n      <th>14</th>\n      <td>12</td>\n      <td>19</td>\n      <td>81</td>\n      <td>6</td>\n      <td>95</td>\n      <td>26</td>\n      <td>31</td>\n      <td>22</td>\n      <td>85</td>\n      <td>9</td>\n      <td>37</td>\n    </tr>\n    <tr>\n      <th>15</th>\n      <td>65</td>\n      <td>80</td>\n      <td>56</td>\n      <td>84</td>\n      <td>93</td>\n      <td>48</td>\n      <td>31</td>\n      <td>49</td>\n      <td>2</td>\n      <td>25</td>\n      <td>54</td>\n    </tr>\n    <tr>\n      <th>16</th>\n      <td>41</td>\n      <td>92</td>\n      <td>92</td>\n      <td>84</td>\n      <td>95</td>\n      <td>7</td>\n      <td>32</td>\n      <td>4</td>\n      <td>97</td>\n      <td>28</td>\n      <td>59</td>\n    </tr>\n    <tr>\n      <th>17</th>\n      <td>92</td>\n      <td>79</td>\n      <td>75</td>\n      <td>6</td>\n      <td>11</td>\n      <td>61</td>\n      <td>28</td>\n      <td>17</td>\n      <td>13</td>\n      <td>77</td>\n      <td>14</td>\n    </tr>\n    <tr>\n      <th>18</th>\n      <td>88</td>\n      <td>86</td>\n      <td>84</td>\n      <td>84</td>\n      <td>16</td>\n      <td>70</td>\n      <td>80</td>\n      <td>76</td>\n      <td>47</td>\n      <td>80</td>\n      <td>75</td>\n    </tr>\n    <tr>\n      <th>19</th>\n      <td>31</td>\n      <td>40</td>\n      <td>83</td>\n      <td>89</td>\n      <td>59</td>\n      <td>1</td>\n      <td>18</td>\n      <td>33</td>\n      <td>12</td>\n      <td>58</td>\n      <td>0</td>\n    </tr>\n  </tbody>\n</table>\n</div>"
          },
          "metadata": {}
        }
      ]
    },
    {
      "cell_type": "code",
      "source": "#zadanie 20\ntable = pd.DataFrame(([1,\"Kowalski\",\"1998-09-01\",\"Sopot\"],[2,\"Malinowska\",\"1995-10-09\",\"Gdańsk\"],[3,\"Nowak\",\"1998-02-09\",\n\"Gdańsk\"],[4,\"Kowalewski\",\"1999-03-12\",\"Gdynia\"],[5,\"Jankowski\",\"1999-09-01\",\"Sopot\"]),columns=[\"Lp\",\"Nazwisko\",\"Data\",\"Miasto\"])\ntable.to_csv('tabela.csv',index=False)",
      "metadata": {
        "trusted": true
      },
      "execution_count": 43,
      "outputs": []
    },
    {
      "cell_type": "code",
      "source": "#zadanie 21\n#df_tab = pd.read_csv('tabela.csv')\ndf_tab=table.copy()\n#df_tab\ndf_tab2 = pd.concat([df_tab.Nazwisko, df_tab.Lp, df_tab.Data], axis=1)\ndf_tab3 = pd.concat([df_tab.Nazwisko, df_tab.Miasto, df_tab.Lp], axis=1)\ndf_tab4 = pd.concat([df_tab2.Lp,df_tab3.Nazwisko,df_tab2.Data,df_tab3.Miasto],axis=1)\ndf_tab5 = df_tab4.copy()\ndf_tab5=df_tab5.drop(df_tab5.index[4])\ndf_tab5",
      "metadata": {
        "trusted": true
      },
      "execution_count": 64,
      "outputs": [
        {
          "execution_count": 64,
          "output_type": "execute_result",
          "data": {
            "text/plain": "   Lp    Nazwisko        Data  Miasto\n0   1    Kowalski  1998-09-01   Sopot\n1   2  Malinowska  1995-10-09  Gdańsk\n2   3       Nowak  1998-02-09  Gdańsk\n3   4  Kowalewski  1999-03-12  Gdynia",
            "text/html": "<div>\n<style scoped>\n    .dataframe tbody tr th:only-of-type {\n        vertical-align: middle;\n    }\n\n    .dataframe tbody tr th {\n        vertical-align: top;\n    }\n\n    .dataframe thead th {\n        text-align: right;\n    }\n</style>\n<table border=\"1\" class=\"dataframe\">\n  <thead>\n    <tr style=\"text-align: right;\">\n      <th></th>\n      <th>Lp</th>\n      <th>Nazwisko</th>\n      <th>Data</th>\n      <th>Miasto</th>\n    </tr>\n  </thead>\n  <tbody>\n    <tr>\n      <th>0</th>\n      <td>1</td>\n      <td>Kowalski</td>\n      <td>1998-09-01</td>\n      <td>Sopot</td>\n    </tr>\n    <tr>\n      <th>1</th>\n      <td>2</td>\n      <td>Malinowska</td>\n      <td>1995-10-09</td>\n      <td>Gdańsk</td>\n    </tr>\n    <tr>\n      <th>2</th>\n      <td>3</td>\n      <td>Nowak</td>\n      <td>1998-02-09</td>\n      <td>Gdańsk</td>\n    </tr>\n    <tr>\n      <th>3</th>\n      <td>4</td>\n      <td>Kowalewski</td>\n      <td>1999-03-12</td>\n      <td>Gdynia</td>\n    </tr>\n  </tbody>\n</table>\n</div>"
          },
          "metadata": {}
        }
      ]
    },
    {
      "cell_type": "code",
      "source": "",
      "metadata": {},
      "execution_count": null,
      "outputs": []
    }
  ]
}